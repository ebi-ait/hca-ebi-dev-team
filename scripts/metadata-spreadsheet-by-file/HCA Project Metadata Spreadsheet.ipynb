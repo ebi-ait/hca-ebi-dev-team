{
 "cells": [
  {
   "cell_type": "markdown",
   "id": "ebcede52",
   "metadata": {
    "pycharm": {
     "name": "#%% md\n"
    }
   },
   "source": [
    "# \"Full Metadata\" Spreadsheet (working title)\n",
    "\n",
    "See [ticket 576](https://app.zenhub.com/workspaces/dcp-ingest-product-development-5f71ca62a3cb47326bdc1b5c/issues/ebi-ait/dcp-ingest-central/576)\n",
    "\n",
    "This is an initial attempt for enabling data consumers to explore the metadata of an HCA project with common simple tools with minimal coding such as Excel Pivot Tables.\n"
   ]
  },
  {
   "cell_type": "code",
   "execution_count": 1,
   "id": "219e4951",
   "metadata": {
    "pycharm": {
     "name": "#%%\n"
    }
   },
   "outputs": [],
   "source": [
    "input_dir= './data'\n",
    "spreadsheet = f'{input_dir}/hca_template_20220518_minimal_donor_metadata_ontologies_CK.xlsx'\n",
    "output_dir = './examples'\n",
    "version = '0.5'"
   ]
  },
  {
   "cell_type": "code",
   "execution_count": 2,
   "id": "0464fc5e",
   "metadata": {
    "pycharm": {
     "name": "#%%\n"
    }
   },
   "outputs": [
    {
     "data": {
      "application/vnd.jupyter.widget-view+json": {
       "model_id": "0dff0ad44b8b4a468a7b7e2acbc1c84b",
       "version_major": 2,
       "version_minor": 0
      },
      "text/plain": [
       "Dropdown(description='Report Entity:', options=('Sequence file', 'Image file', 'Analysis file'), value='Sequen…"
      ]
     },
     "metadata": {},
     "output_type": "display_data"
    }
   ],
   "source": [
    "import ipywidgets as widgets\n",
    "from IPython.display import display\n",
    "\n",
    "report_entity_dropdown = widgets.Dropdown(\n",
    "    options=['Sequence file', 'Image file', 'Analysis file'],\n",
    "    value='Sequence file',\n",
    "    description='Report Entity:',\n",
    "    disabled=False,\n",
    ")\n",
    "display(report_entity_dropdown)"
   ]
  },
  {
   "cell_type": "code",
   "execution_count": 3,
   "id": "50b264e8",
   "metadata": {
    "pycharm": {
     "name": "#%%\n"
    }
   },
   "outputs": [],
   "source": [
    "report_entity = report_entity_dropdown.value"
   ]
  },
  {
   "cell_type": "markdown",
   "id": "b35349b7",
   "metadata": {
    "pycharm": {
     "name": "#%% md\n"
    }
   },
   "source": [
    "* TODO: skip unnecessary lines\n",
    "* TODO: natural language column names vs variable names\n",
    "* DONE: render graph\n",
    "* DONE: analysis file linking\n",
    "* DONE: handle CSV fields (separated by ||)\n",
    "* TODO: analysis file -> imaged specimen <- image file\n",
    "* TODO: same for analysis file -> cell suspension <- sequence file\n",
    "* analysis file and image file are n:n relation"
   ]
  },
  {
   "cell_type": "markdown",
   "id": "add681df",
   "metadata": {
    "pycharm": {
     "name": "#%% md\n"
    }
   },
   "source": [
    "Define an Entity Relationship model (entity is a worksheet)"
   ]
  },
  {
   "cell_type": "code",
   "execution_count": null,
   "id": "2ffcf8a1",
   "metadata": {
    "pycharm": {
     "name": "#%%\n"
    }
   },
   "outputs": [],
   "source": [
    "from dataclasses import dataclass\n",
    "\n",
    "@dataclass\n",
    "class SequencingProtocol:\n",
    "    SEQUENCING_PROTOCOL_ID_Required: str\n",
    "        \n",
    "@dataclass\n",
    "class LibraryPreparationProtocol:\n",
    "    LIBRARY_PREPARATION_PROTOCOL_ID: str\n",
    "\n",
    "@dataclass\n",
    "class DissociationProtocol:\n",
    "    DISSOCIATION_PROTOCOL_ID:str\n",
    "\n",
    "@dataclass\n",
    "class CollectionProtocol:\n",
    "    COLLECTION_PROTOCOL_ID:str\n",
    "\n",
    "@dataclass\n",
    "class AnalysisProtocol:\n",
    "    ANALYSIS_PROTOCOL_ID:str\n",
    "        \n",
    "@dataclass\n",
    "class DonorOrganism:\n",
    "    DONOR_ORGANISM_ID:str \n",
    "        \n",
    "@dataclass\n",
    "class SpecimenFromOrganism:\n",
    "    SPECIMEN_FROM_ORGANISM_ID:str\n",
    "    COLLECTION_PROTOCOL_ID:CollectionProtocol\n",
    "    INPUT_DONOR_ORGANISM_ID:DonorOrganism\n",
    "        \n",
    "@dataclass\n",
    "class EnrichmentProtocol:\n",
    "    ENRICHMENT_PROTOCOL_ID:str\n",
    "            \n",
    "@dataclass\n",
    "class CellSuspension:\n",
    "    CELL_SUSPENSION_ID: str\n",
    "    ENRICHMENT_PROTOCOL_ID:EnrichmentProtocol\n",
    "    INPUT_SPECIMEN_FROM_ORGANISM_ID:SpecimenFromOrganism\n",
    "    DISSOCIATION_PROTOCOL_ID:DissociationProtocol\n",
    "    \n",
    "@dataclass\n",
    "class SequenceFile:\n",
    "    SEQUENCING_PROTOCOL_ID_Required: SequencingProtocol\n",
    "    LIBRARY_PREPARATION_PROTOCOL_ID_Required: LibraryPreparationProtocol\n",
    "    INPUT_CELL_SUSPENSION_ID_Required: CellSuspension\n",
    "\n",
    "        \n",
    "@dataclass\n",
    "class ImagingPreparationProtocol:\n",
    "    IMAGING_PREPARATION_PROTOCOL_ID:str\n",
    "\n",
    "        \n",
    "@dataclass\n",
    "class ImagedSpecimen:\n",
    "    IMAGED_SPECIMEN_ID_Required:str\n",
    "    INPUT_SPECIMEN_FROM_ORGANISM_ID_Required:SpecimenFromOrganism\n",
    "    IMAGING_PREPARATION_PROTOCOL_ID_Required:ImagingPreparationProtocol\n",
    "\n",
    "\n",
    "@dataclass\n",
    "class AnalysisFile:\n",
    "    ANALYSIS_PROTOCOL_ID_Required: AnalysisProtocol\n",
    "    IMAGED_SPECIMEN_ID_Required:ImagedSpecimen\n",
    "    CELL_SUSPENSION_ID_Required:CellSuspension\n",
    "    LIBRARY_PREPARATION_PROTOCOL_ID_Required:LibraryPreparationProtocol\n",
    "    SEQUENCING_PROTOCOL_ID_Required:SequencingProtocol\n",
    "\n",
    "        \n",
    "@dataclass\n",
    "class ImagingProtocol:\n",
    "    IMAGING_PROTOCOL_ID:str\n",
    "\n",
    "        \n",
    "@dataclass\n",
    "class ImageFile:\n",
    "    INPUT_IMAGED_SPECIMEN_ID:ImagedSpecimen\n",
    "    IMAGING_PROTOCOL_ID:ImagingProtocol\n"
   ]
  },
  {
   "cell_type": "code",
   "execution_count": null,
   "id": "728957e4",
   "metadata": {
    "pycharm": {
     "name": "#%%\n"
    }
   },
   "outputs": [],
   "source": [
    "from IPython.core.display import display, HTML\n",
    "display(HTML(\"<style>.container { width:100% !important; }</style>\"))\n",
    "import erdantic as erd\n",
    "diagram = erd.create(AnalysisFile)\n",
    "diagram"
   ]
  },
  {
   "cell_type": "code",
   "execution_count": null,
   "id": "0e3c9e9e",
   "metadata": {
    "pycharm": {
     "name": "#%%\n"
    }
   },
   "outputs": [],
   "source": [
    "@dataclass\n",
    "class Link:\n",
    "    source:str\n",
    "    target:str\n",
    "    source_field:str\n",
    "    target_field:str = None\n",
    "    join_type:str = 'inner'\n",
    "    \n",
    "        \n",
    "    def __post_init__(self):\n",
    "        if self.target_field is None:\n",
    "            self.target_field = self.source_field\n",
    "        else:\n",
    "            print(f'{self.source}->{self.target} using fields {self.source_field}->{self.target_field}')\n",
    "        \n",
    "# TODO: links list is assumed to be topologically sorted, in the future - sort\n",
    "links = [\n",
    "    Link('Image file', 'Imaged specimen', 'INPUT IMAGED SPECIMEN ID (Required)', 'IMAGED SPECIMEN ID (Required)'),\n",
    "    Link('Image file', 'Imaging protocol', 'IMAGING PROTOCOL ID (Required)'),\n",
    "    Link('Imaged specimen', 'Specimen from organism', 'INPUT SPECIMEN FROM ORGANISM ID (Required)', 'SPECIMEN FROM ORGANISM ID (Required)'),\n",
    "    Link('Imaged specimen', 'Imaging preparation protocol', 'IMAGING PREPARATION PROTOCOL ID (Required)'),\n",
    "\n",
    "#     Link('Sequence file', 'Sequencing protocol', 'SEQUENCING PROTOCOL ID (Required)'),\n",
    "#     Link('Sequence file','Library preparation protocol', 'LIBRARY PREPARATION PROTOCOL ID (Required)'),\n",
    "#    Link('Sequence file', 'Cell suspension', 'INPUT CELL SUSPENSION ID (Required)','CELL SUSPENSION ID (Required)'),\n",
    "\n",
    "#     Link('Analysis file', 'Analysis protocol', 'ANALYSIS PROTOCOL ID (Required)', 'ANALYSIS PROTOCOL ID'),\n",
    "#     Link('Analysis file', 'Cell suspension', 'CELL SUSPENSION ID (Required)'),\n",
    "#     Link('Analysis file', 'Library preparation protocol', 'LIBRARY PREPARATION PROTOCOL ID (Required)'),\n",
    "#     Link('Analysis file', 'Sequencing protocol', 'SEQUENCING PROTOCOL ID (Required)'),\n",
    "    \n",
    "#     Link('Cell suspension', 'Enrichment protocol','ENRICHMENT PROTOCOL ID (Required)'),\n",
    "#     Link('Cell suspension', 'Specimen from organism','INPUT SPECIMEN FROM ORGANISM ID (Required)','SPECIMEN FROM ORGANISM ID (Required)'),\n",
    "#     Link('Cell suspension', 'Dissociation protocol','DISSOCIATION PROTOCOL ID (Required)'),\n",
    "\n",
    "    Link('Specimen from organism', 'Collection protocol', 'COLLECTION PROTOCOL ID (Required)'),\n",
    "    Link('Specimen from organism', 'Donor organism','INPUT DONOR ORGANISM ID (Required)','DONOR ORGANISM ID (Required)'),\n",
    "\n",
    "    \n",
    "#     Link('Analysis file', 'Imaged specimen', 'IMAGED SPECIMEN ID (Required)'),    \n",
    "#     Link('Imaged specimen', 'Analysis file', 'IMAGED SPECIMEN ID (Required)', join_type='left')\n",
    "    \n",
    "]\n",
    "\n"
   ]
  },
  {
   "cell_type": "code",
   "execution_count": null,
   "id": "a3adfb41",
   "metadata": {
    "pycharm": {
     "name": "#%%\n"
    }
   },
   "outputs": [],
   "source": [
    "import networkx as nx\n",
    "import matplotlib.pyplot as plt\n",
    "from functools import partial\n",
    "\n",
    "\n",
    "%matplotlib inline\n",
    "\n",
    "\n",
    "def add_link_to_graph(graph :nx.Graph, link :Link):\n",
    "    map(graph.add_node, filter(lambda node:node not in graph.nodes, [link.source, link.target] ))\n",
    "    graph.add_edge(link.source, link.target, keys=f'{link.source_field}\\n->{link.target_field}')\n",
    "\n",
    "G = nx.Graph()\n",
    "x =list(map(partial(add_link_to_graph, G), links))\n",
    "\n",
    "fig = plt.figure()\n",
    "plt.figure(figsize=(16, 10))\n",
    "\n",
    "labels = nx.get_edge_attributes(G, 'keys')\n",
    "pos = nx.spring_layout(G)          \n",
    "nx.draw_networkx(G, pos, arrowstyle=\"->\",)\n",
    "nx.draw_networkx_edge_labels(G, pos, labels, font_size=10)\n"
   ]
  },
  {
   "cell_type": "code",
   "execution_count": null,
   "id": "6cb66a29",
   "metadata": {
    "pycharm": {
     "name": "#%%\n"
    }
   },
   "outputs": [],
   "source": [
    "import pandas as pd\n",
    "sep='\\|\\|'\n",
    "def explode_csv_col(df :pd.DataFrame, column :str, sep=',') -> pd.DataFrame:\n",
    "    cols={}\n",
    "    cols[column] = df[column].str.split(sep)\n",
    "    return df.assign(**cols).explode(column)\n",
    "\n",
    "def format_column_name(column_name, namespace):\n",
    "    return f'{namespace}_{column_name}'\n",
    "\n",
    "def prefix_columns(df, prefix):\n",
    "    return df.rename(columns=lambda c:format_column_name(namespace=prefix,column_name=c))\n",
    "\n",
    "first_data_line=4\n",
    "def remove_field_desc_lines(df:pd.DataFrame) -> pd.DataFrame:\n",
    "    return df[first_data_line:]"
   ]
  },
  {
   "cell_type": "code",
   "execution_count": null,
   "id": "7b63e08f",
   "metadata": {
    "pycharm": {
     "name": "#%%\n"
    }
   },
   "outputs": [],
   "source": [
    "from datetime import datetime\n",
    "now = lambda : datetime.now().strftime('%H%M%S.%f')\n",
    "\n",
    "import os\n",
    "def join_worksheet(worksheet:pd.DataFrame, link:Link, spreadsheet:str) -> pd.DataFrame:\n",
    "    print(f'joining [{link.source}] to [{link.target}]')\n",
    "    print(f'fields [{link.source_field}] and [{link.target_field}]')\n",
    "    try:\n",
    "        source_field = format_column_name(column_name=link.source_field, namespace=link.source)\n",
    "        target_field = format_column_name(column_name=link.target_field, namespace=link.target)\n",
    "        worksheet = explode_csv_col(df=worksheet, column=source_field, sep=sep)\n",
    " \n",
    "        spreadsheet_obj = pd.ExcelFile(spreadsheet)\n",
    "        if link.target not in spreadsheet_obj.sheet_names:\n",
    "            raise ValueError(f'spreadsheet does not contain {link.target} sheet. Possible names {sorted(spreadsheet_obj.sheet_names)}')\n",
    "        target = spreadsheet_obj.parse(link.target)\n",
    "\n",
    "        target = pd.read_excel(spreadsheet, link.target)\n",
    "        target = remove_field_desc_lines(target)\n",
    "        target = prefix_columns(target, prefix=link.target)\n",
    "\n",
    "        target = explode_csv_col(target, column=target_field, sep=sep)\n",
    "\n",
    "        result = worksheet.merge(target, \n",
    "                                 how=link.join_type, \n",
    "                                 left_on=source_field, \n",
    "                                 right_on=target_field)\n",
    "        if len(result.index) == 0:\n",
    "            raise RuntimeError('problem joining [{link.source}] to [{link.target}] using fields [{source_field}] and [{target_field}]: join resulted in zero rows')\n",
    "        \n",
    "    except KeyError as e:\n",
    "        err_msg = f'problem joining [{link.source}] to [{link.target}] using fields [{source_field}] and [{target_field}]: {e}'\n",
    "        raise RuntimeError(err_msg) from e\n",
    "    return result"
   ]
  },
  {
   "cell_type": "code",
   "execution_count": null,
   "id": "e6970d1d",
   "metadata": {
    "pycharm": {
     "name": "#%%\n"
    }
   },
   "outputs": [],
   "source": [
    "import pandas as pd\n",
    "from collections import namedtuple\n",
    "from functools import partial, reduce\n",
    "\n",
    "def flatten_spreadsheet(spreadsheet, report_entity):\n",
    "    spreadsheet_obj = pd.ExcelFile(spreadsheet)\n",
    "    if report_entity not in spreadsheet_obj.sheet_names:\n",
    "        raise ValueError(f'spreadsheet does not contain {report_entity} sheet')\n",
    "    report_sheet = spreadsheet_obj.parse(report_entity)\n",
    "    report_sheet = prefix_columns(report_sheet, prefix=report_entity)\n",
    "    report_sheet = remove_field_desc_lines(report_sheet)\n",
    "    flattened = reduce(partial(join_worksheet, spreadsheet=spreadsheet), \n",
    "                       links,\n",
    "                       report_sheet)\n",
    "    return flattened\n",
    "flattened = flatten_spreadsheet(spreadsheet, report_entity)"
   ]
  },
  {
   "cell_type": "code",
   "execution_count": null,
   "id": "3485bba0",
   "metadata": {
    "pycharm": {
     "name": "#%%\n"
    }
   },
   "outputs": [],
   "source": [
    "from os.path import basename, splitext\n",
    "report_entity_clean = report_entity.replace(\" \",\"-\")\n",
    "flattened_filename = f'{output_dir}/{splitext(basename(spreadsheet))[0]}_denormalised_{report_entity_clean}_v{version}.xlsx'\n",
    "flattened.to_excel(flattened_filename)"
   ]
  },
  {
   "cell_type": "code",
   "execution_count": null,
   "id": "fa4f02d1",
   "metadata": {
    "pycharm": {
     "name": "#%%\n"
    }
   },
   "outputs": [],
   "source": [
    "import openpyxl\n",
    "import getpass\n",
    "fh = openpyxl.load_workbook(flattened_filename)\n",
    "\n",
    "obj = fh.properties   \n",
    "project_info = pd.read_excel(spreadsheet, 'Project')\n",
    "data_row_idx = 4\n",
    "project_label = project_info['PROJECT LABEL (Required)'][data_row_idx]\n",
    "\n",
    "fh.properties.title = f'denormalised hca metadata for project {project_label} showing {report_entity}'\n",
    "fh.properties.version = version\n",
    "fh.properties.keywords = f'flattened,hca,metadata,{project_label},{report_entity_clean}'\n",
    "fh.properties.creator = getpass.getuser( )\n",
    "fh.properties.lastModifiedBy = getpass.getuser( )\n",
    "fh.properties.created=datetime.now()\n",
    "fh.properties.modified=datetime.now()\n",
    "\n",
    "\n",
    "fh.save(flattened_filename)"
   ]
  },
  {
   "cell_type": "code",
   "execution_count": null,
   "id": "bea4c078",
   "metadata": {
    "pycharm": {
     "name": "#%%\n"
    }
   },
   "outputs": [],
   "source": [
    "field_list = ['_FILE NAME (Required)', '_FILE FORMAT (Required)']\n",
    "field_list = [report_entity + f for f in field_list]\n",
    "flattened[field_list]"
   ]
  },
  {
   "cell_type": "code",
   "execution_count": 74,
   "id": "948c281a",
   "metadata": {
    "pycharm": {
     "name": "#%%\n"
    }
   },
   "outputs": [
    {
     "data": {
      "text/plain": [
       "0"
      ]
     },
     "execution_count": 74,
     "metadata": {},
     "output_type": "execute_result"
    }
   ],
   "source": []
  }
 ],
 "metadata": {
  "kernelspec": {
   "display_name": "Python 3 (ipykernel)",
   "language": "python",
   "name": "python3"
  },
  "language_info": {
   "codemirror_mode": {
    "name": "ipython",
    "version": 3
   },
   "file_extension": ".py",
   "mimetype": "text/x-python",
   "name": "python",
   "nbconvert_exporter": "python",
   "pygments_lexer": "ipython3",
   "version": "3.7.9"
  }
 },
 "nbformat": 4,
 "nbformat_minor": 5
}
