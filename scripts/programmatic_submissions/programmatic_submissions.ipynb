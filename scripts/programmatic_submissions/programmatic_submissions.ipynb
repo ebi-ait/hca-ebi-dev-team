{
  "nbformat": 4,
  "nbformat_minor": 0,
  "metadata": {
    "colab": {
      "name": "Untitled0.ipynb",
      "provenance": [],
      "include_colab_link": true
    },
    "kernelspec": {
      "name": "python3",
      "display_name": "Python 3"
    },
    "language_info": {
      "name": "python"
    }
  },
  "cells": [
    {
      "cell_type": "markdown",
      "metadata": {
        "id": "view-in-github",
        "colab_type": "text"
      },
      "source": [
        "<a href=\"https://colab.research.google.com/github/ebi-ait/hca-ebi-dev-team/blob/feature%2Fdcp-834-programmatic-submissions/scripts/programmatic_submissions/programmatic_submissions.ipynb\" target=\"_parent\"><img src=\"https://colab.research.google.com/assets/colab-badge.svg\" alt=\"Open In Colab\"/></a>"
      ]
    },
    {
      "cell_type": "markdown",
      "source": [
        "# Programmatic Submissions to Ingest\n",
        "\n",
        "see [ticket 834](https://app.zenhub.com/workspaces/dcp-ingest-product-development-5f71ca62a3cb47326bdc1b5c/issues/ebi-ait/dcp-ingest-central/834)"
      ],
      "metadata": {
        "id": "vZmJIGcsUdbs"
      }
    },
    {
      "cell_type": "markdown",
      "source": [
        "## Set up  libraries anddependencies"
      ],
      "metadata": {
        "id": "qAU_Cz-GpvTr"
      }
    },
    {
      "cell_type": "markdown",
      "source": [
        "### Install external libraries"
      ],
      "metadata": {
        "id": "b3ZppyYdqL2R"
      }
    },
    {
      "cell_type": "code",
      "source": [
        "!pip install hca-ingest"
      ],
      "metadata": {
        "id": "KgUOAkScp1WH",
        "outputId": "0b8d0e1f-2ac4-48e2-f5ba-975611a5aeb4",
        "colab": {
          "base_uri": "https://localhost:8080/",
          "height": 1000
        }
      },
      "execution_count": 1,
      "outputs": [
        {
          "output_type": "stream",
          "name": "stdout",
          "text": [
            "Looking in indexes: https://pypi.org/simple, https://us-python.pkg.dev/colab-wheels/public/simple/\n",
            "Collecting hca-ingest\n",
            "  Downloading hca-ingest-2.1.0.tar.gz (58 kB)\n",
            "\u001b[K     |████████████████████████████████| 58 kB 3.0 MB/s \n",
            "\u001b[?25hRequirement already satisfied: appdirs==1.4.4 in /usr/local/lib/python3.7/dist-packages (from hca-ingest) (1.4.4)\n",
            "Collecting attrs==21.4.0\n",
            "  Downloading attrs-21.4.0-py2.py3-none-any.whl (60 kB)\n",
            "\u001b[K     |████████████████████████████████| 60 kB 7.3 MB/s \n",
            "\u001b[?25hCollecting cattrs==22.1.0\n",
            "  Downloading cattrs-22.1.0-py3-none-any.whl (33 kB)\n",
            "Requirement already satisfied: certifi==2022.6.15 in /usr/local/lib/python3.7/dist-packages (from hca-ingest) (2022.6.15)\n",
            "Requirement already satisfied: cffi==1.15.1 in /usr/local/lib/python3.7/dist-packages (from hca-ingest) (1.15.1)\n",
            "Requirement already satisfied: charset-normalizer==2.1.0 in /usr/local/lib/python3.7/dist-packages (from hca-ingest) (2.1.0)\n",
            "Collecting cryptography==37.0.4\n",
            "  Downloading cryptography-37.0.4-cp36-abi3-manylinux_2_24_x86_64.whl (4.1 MB)\n",
            "\u001b[K     |████████████████████████████████| 4.1 MB 36.1 MB/s \n",
            "\u001b[?25hCollecting dataclasses==0.6\n",
            "  Downloading dataclasses-0.6-py3-none-any.whl (14 kB)\n",
            "Requirement already satisfied: et-xmlfile==1.1.0 in /usr/local/lib/python3.7/dist-packages (from hca-ingest) (1.1.0)\n",
            "Collecting exceptiongroup==1.0.0rc8\n",
            "  Downloading exceptiongroup-1.0.0rc8-py3-none-any.whl (11 kB)\n",
            "Collecting idna==3.3\n",
            "  Downloading idna-3.3-py3-none-any.whl (61 kB)\n",
            "\u001b[K     |████████████████████████████████| 61 kB 7.0 MB/s \n",
            "\u001b[?25hCollecting jsonref==0.2\n",
            "  Downloading jsonref-0.2-py3-none-any.whl (9.3 kB)\n",
            "Collecting mergedeep==1.3.4\n",
            "  Downloading mergedeep-1.3.4-py3-none-any.whl (6.4 kB)\n",
            "Requirement already satisfied: openpyxl==3.0.10 in /usr/local/lib/python3.7/dist-packages (from hca-ingest) (3.0.10)\n",
            "Collecting polling==0.3.2\n",
            "  Downloading polling-0.3.2.tar.gz (5.2 kB)\n",
            "Requirement already satisfied: pycparser==2.21 in /usr/local/lib/python3.7/dist-packages (from hca-ingest) (2.21)\n",
            "Collecting pyjwt==2.4.0\n",
            "  Downloading PyJWT-2.4.0-py3-none-any.whl (18 kB)\n",
            "Requirement already satisfied: pyyaml==6.0 in /usr/local/lib/python3.7/dist-packages (from hca-ingest) (6.0)\n",
            "Collecting requests[security]==2.28.1\n",
            "  Downloading requests-2.28.1-py3-none-any.whl (62 kB)\n",
            "\u001b[K     |████████████████████████████████| 62 kB 302 kB/s \n",
            "\u001b[?25hCollecting requests-cache==0.9.5\n",
            "  Downloading requests_cache-0.9.5-py3-none-any.whl (47 kB)\n",
            "\u001b[K     |████████████████████████████████| 47 kB 2.1 MB/s \n",
            "\u001b[?25hCollecting six==1.16.0\n",
            "  Downloading six-1.16.0-py2.py3-none-any.whl (11 kB)\n",
            "Requirement already satisfied: sortedcontainers==2.4.0 in /usr/local/lib/python3.7/dist-packages (from hca-ingest) (2.4.0)\n",
            "Collecting url-normalize==1.4.3\n",
            "  Downloading url_normalize-1.4.3-py2.py3-none-any.whl (6.8 kB)\n",
            "Collecting urllib3==1.26.11\n",
            "  Downloading urllib3-1.26.11-py2.py3-none-any.whl (139 kB)\n",
            "\u001b[K     |████████████████████████████████| 139 kB 71.5 MB/s \n",
            "\u001b[?25hCollecting xlsxwriter==3.0.3\n",
            "  Downloading XlsxWriter-3.0.3-py3-none-any.whl (149 kB)\n",
            "\u001b[K     |████████████████████████████████| 149 kB 49.3 MB/s \n",
            "\u001b[?25hRequirement already satisfied: typing_extensions in /usr/local/lib/python3.7/dist-packages (from cattrs==22.1.0->hca-ingest) (4.1.1)\n",
            "Requirement already satisfied: requests<3.0,>=2.22 in /usr/local/lib/python3.7/dist-packages (from requests-cache==0.9.5->hca-ingest) (2.23.0)\n",
            "Building wheels for collected packages: hca-ingest, polling\n",
            "  Building wheel for hca-ingest (setup.py) ... \u001b[?25l\u001b[?25hdone\n",
            "  Created wheel for hca-ingest: filename=hca_ingest-2.1.0-py3-none-any.whl size=72721 sha256=39b64085b52ef60d9ac818f52664abead24ff6c1cf562f33ec645ffbec427dc2\n",
            "  Stored in directory: /root/.cache/pip/wheels/96/4f/8c/3974b83843009a0fe32ecc9c98479b37a00c3e7a33e67dcc38\n",
            "  Building wheel for polling (setup.py) ... \u001b[?25l\u001b[?25hdone\n",
            "  Created wheel for polling: filename=polling-0.3.2-py3-none-any.whl size=4129 sha256=59cc74c0e58bb07c065852b5c11c86840d45b37edc4abd14da74e18336401034\n",
            "  Stored in directory: /root/.cache/pip/wheels/e5/3f/0c/54a03b715fce3176335c957ae94d7d0b2a918e89b1b195bace\n",
            "Successfully built hca-ingest polling\n",
            "Installing collected packages: urllib3, six, idna, exceptiongroup, attrs, url-normalize, requests, cattrs, xlsxwriter, requests-cache, pyjwt, polling, mergedeep, jsonref, dataclasses, cryptography, hca-ingest\n",
            "  Attempting uninstall: urllib3\n",
            "    Found existing installation: urllib3 1.24.3\n",
            "    Uninstalling urllib3-1.24.3:\n",
            "      Successfully uninstalled urllib3-1.24.3\n",
            "  Attempting uninstall: six\n",
            "    Found existing installation: six 1.15.0\n",
            "    Uninstalling six-1.15.0:\n",
            "      Successfully uninstalled six-1.15.0\n",
            "  Attempting uninstall: idna\n",
            "    Found existing installation: idna 2.10\n",
            "    Uninstalling idna-2.10:\n",
            "      Successfully uninstalled idna-2.10\n",
            "  Attempting uninstall: attrs\n",
            "    Found existing installation: attrs 22.1.0\n",
            "    Uninstalling attrs-22.1.0:\n",
            "      Successfully uninstalled attrs-22.1.0\n",
            "  Attempting uninstall: requests\n",
            "    Found existing installation: requests 2.23.0\n",
            "    Uninstalling requests-2.23.0:\n",
            "      Successfully uninstalled requests-2.23.0\n",
            "\u001b[31mERROR: pip's dependency resolver does not currently take into account all the packages that are installed. This behaviour is the source of the following dependency conflicts.\n",
            "ipython 7.9.0 requires jedi>=0.10, which is not installed.\u001b[0m\n",
            "Successfully installed attrs-21.4.0 cattrs-22.1.0 cryptography-37.0.4 dataclasses-0.6 exceptiongroup-1.0.0rc8 hca-ingest-2.1.0 idna-3.3 jsonref-0.2 mergedeep-1.3.4 polling-0.3.2 pyjwt-2.4.0 requests-2.28.1 requests-cache-0.9.5 six-1.16.0 url-normalize-1.4.3 urllib3-1.26.11 xlsxwriter-3.0.3\n"
          ]
        },
        {
          "output_type": "display_data",
          "data": {
            "application/vnd.colab-display-data+json": {
              "pip_warning": {
                "packages": [
                  "six"
                ]
              }
            }
          },
          "metadata": {}
        }
      ]
    },
    {
      "cell_type": "markdown",
      "source": [
        "### Load libraries"
      ],
      "metadata": {
        "id": "IYQmBG-wqO5v"
      }
    },
    {
      "cell_type": "code",
      "source": [
        "import requests as rq\n",
        "import json\n",
        "from hca_ingest.api.ingestapi import IngestApi"
      ],
      "metadata": {
        "id": "ViET1F9vqlT7"
      },
      "execution_count": 3,
      "outputs": []
    },
    {
      "cell_type": "markdown",
      "source": [
        "Login and get a token"
      ],
      "metadata": {
        "id": "6VLW0nNnUjFq"
      }
    },
    {
      "cell_type": "code",
      "source": [
        "# TODO: for now token is obtained from the UI\n",
        "token = \"Bearer \"\n",
        "# code to login"
      ],
      "metadata": {
        "id": "07iWzHuwUwQN"
      },
      "execution_count": null,
      "outputs": []
    },
    {
      "cell_type": "markdown",
      "source": [
        "### Set up environment and global variables"
      ],
      "metadata": {
        "id": "zuKF-BQzvpQy"
      }
    },
    {
      "cell_type": "code",
      "source": [
        "# Environment-related set-up and global variables used across the notebook\n",
        "accepted_environments = {\n",
        "    'develop': '.dev',\n",
        "    'staging': '.staging',\n",
        "    'production': ''\n",
        "}\n",
        "\n",
        "environment = 'staging'  #staging environment by default\n",
        "\n",
        "# Set up environment value for API's URL\n",
        "try:\n",
        "  env_for_url = accepted_environments[environment]\n",
        "except KeyError:\n",
        "  print(f\"Environment {environment} not recognised. Defaulting to staging\")\n",
        "  env_for_url = accepted_environments['staging']\n",
        "\n",
        "base_url = f'https://api.ingest{env_for_url}.archive.data.humancellatlas.org'\n",
        "\n",
        "# Set up API object\n",
        "api = IngestApi(url=base_url)\n"
      ],
      "metadata": {
        "id": "LMOfvgiXsX79"
      },
      "execution_count": null,
      "outputs": []
    },
    {
      "cell_type": "markdown",
      "source": [
        "## Create a project\n",
        "\n",
        "This block of code will be dedicated to creating a project within ingest. The following will be assumed:\n",
        "* A JSON entity is available for use as the \"content\"\n",
        "\n",
        "For the purpose of this notebook, everything will be performed in the staging environment. To perform this on other environments (e.g. prod), please update the `environment` variable to any of the values accepted in `accepted_environments`"
      ],
      "metadata": {
        "id": "D4TjzYhdUpqk"
      }
    },
    {
      "cell_type": "code",
      "source": [
        "# Load the project metadata entity\n",
        "\n"
      ],
      "metadata": {
        "id": "KWYY0lYZUtz9"
      },
      "execution_count": null,
      "outputs": []
    }
  ]
}