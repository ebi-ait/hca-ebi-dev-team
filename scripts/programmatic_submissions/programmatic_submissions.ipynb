{
  "nbformat": 4,
  "nbformat_minor": 0,
  "metadata": {
    "colab": {
      "name": "Untitled0.ipynb",
      "provenance": [],
      "authorship_tag": "ABX9TyO27zaa5UFaYuFPAx4xCnEy",
      "include_colab_link": true
    },
    "kernelspec": {
      "name": "python3",
      "display_name": "Python 3"
    },
    "language_info": {
      "name": "python"
    }
  },
  "cells": [
    {
      "cell_type": "markdown",
      "metadata": {
        "id": "view-in-github",
        "colab_type": "text"
      },
      "source": [
        "<a href=\"https://colab.research.google.com/github/ebi-ait/hca-ebi-dev-team/blob/feature%2Fdcp-834-programmatic-submissions/scripts/programmatic_submissions/programmatic_submissions.ipynb\" target=\"_parent\"><img src=\"https://colab.research.google.com/assets/colab-badge.svg\" alt=\"Open In Colab\"/></a>"
      ]
    },
    {
      "cell_type": "markdown",
      "source": [
        "# Programmatic Submissions to Ingest"
      ],
      "metadata": {
        "id": "vZmJIGcsUdbs"
      }
    },
    {
      "cell_type": "markdown",
      "source": [
        "Login and get a token"
      ],
      "metadata": {
        "id": "6VLW0nNnUjFq"
      }
    },
    {
      "cell_type": "code",
      "source": [
        "# code to login"
      ],
      "metadata": {
        "id": "07iWzHuwUwQN"
      },
      "execution_count": null,
      "outputs": []
    },
    {
      "cell_type": "markdown",
      "source": [
        "Create a project"
      ],
      "metadata": {
        "id": "D4TjzYhdUpqk"
      }
    },
    {
      "cell_type": "code",
      "source": [
        "# code to create a project"
      ],
      "metadata": {
        "id": "KWYY0lYZUtz9"
      },
      "execution_count": null,
      "outputs": []
    }
  ]
}